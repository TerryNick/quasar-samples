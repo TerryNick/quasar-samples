{
 "cells": [
  {
   "cell_type": "markdown",
   "metadata": {},
   "source": [
    "# The Newsvendor Problem\n",
    "\n",
    "The newsvendor problem is probably the most well-known stochastic optimization problem. It is well-suited to provide an introduction into the topic. Moreover, it can be easily solved analytically, which turns it into a valuable benchmark."
   ]
  },
  {
   "cell_type": "code",
   "execution_count": 1,
   "metadata": {
    "collapsed": false
   },
   "outputs": [],
   "source": [
    "from pyquasar import *\n",
    "%matplotlib inline"
   ]
  },
  {
   "cell_type": "markdown",
   "metadata": {},
   "source": [
    "## The Stochastic Optimization Model"
   ]
  },
  {
   "cell_type": "markdown",
   "metadata": {},
   "source": [
    "The newsvendor can buy $b$ newspapers at cost $c$ and sell them at price $p$, where sales $s$ are a function of the random demand $D$. The objective of the newsvendor is to buy the optimal number of newspapers that maximizes its profits. Formulated as a stochastic optimization model, the decision problem would be given by\n",
    "$$\\begin{align}\n",
    "\\max_{b,s(D)} \\ &-cb + \\mathbb{E}\\left[ p s(D)\\right] \\\\\n",
    "s.t. \\  & s(D) \\leq b \\\\\n",
    "& s(D) \\leq D \n",
    "\\end{align}$$\n",
    "Typically, we would restrict $b$ and $s$ to be positive, but since we want to compare the result of the approximation with the analytic solution, we assume that $b$ and $s$ could take on negative values. This may not lead to a reasonable interpretation for the decision problem described above, but it would still yield a valid optimization problem."
   ]
  },
  {
   "cell_type": "markdown",
   "metadata": {},
   "source": [
    "### Parameters"
   ]
  },
  {
   "cell_type": "code",
   "execution_count": 2,
   "metadata": {
    "collapsed": true
   },
   "outputs": [],
   "source": [
    "price = 1; cost = 0.2; mean_demand = 20; std_deviation = 5"
   ]
  },
  {
   "cell_type": "markdown",
   "metadata": {},
   "source": [
    "### Problem Formulation"
   ]
  },
  {
   "cell_type": "markdown",
   "metadata": {},
   "source": [
    "The model implementation is quite straightforward, but keep in mind, that we are solving the problem using dynamic programming. This means that we must add bounds to the buying decision in order to avoid unboundedness during the solution process. Also, since demand can be negative, the selling decision must be unbounded."
   ]
  },
  {
   "cell_type": "code",
   "execution_count": 3,
   "metadata": {
    "collapsed": true
   },
   "outputs": [],
   "source": [
    "model = DecisionProblem()\n",
    "buy = model.add_variable(0, \"buy\", ub=1000)\n",
    "sell = model.add_variable(1, \"sell\", lb=float(\"-inf\"))\n",
    "model += price*sell - cost*buy\n",
    "model += sell <= buy\n",
    "model += sell <= rand(\"demand\")"
   ]
  },
  {
   "cell_type": "markdown",
   "metadata": {},
   "source": [
    "Let us take a look at how the string representation of the variable <code>model</code> to see how the problem is represented internally."
   ]
  },
  {
   "cell_type": "code",
   "execution_count": 4,
   "metadata": {
    "collapsed": false
   },
   "outputs": [
    {
     "name": "stdout",
     "output_type": "stream",
     "text": [
      "Maximize\n",
      "obj: -0.2 buy_0 \n",
      "+ sell_1 \n",
      "Subject To\n",
      "sell_1 - buy_0 <= 0.0\n",
      "sell_1 <= rand(demand)\n",
      "Bounds\n",
      "0.0 <= buy_0 <= 1000.0\n",
      "- infinity <= sell_1 <= + infinity\n",
      "End\n"
     ]
    }
   ],
   "source": [
    "print model"
   ]
  },
  {
   "cell_type": "markdown",
   "metadata": {},
   "source": [
    "### Random Demand\n",
    "To model demand, we are going to create a univariate stochastic process with stagewise independence. The process is not restricted to a two-stage decision problem, although in this case, we only use it as our model of demand uncertainty for stage two."
   ]
  },
  {
   "cell_type": "code",
   "execution_count": 5,
   "metadata": {
    "collapsed": false
   },
   "outputs": [
    {
     "data": {
      "text/plain": [
       "<matplotlib.axes._subplots.AxesSubplot at 0x7fd68cf4ecd0>"
      ]
     },
     "execution_count": 5,
     "metadata": {},
     "output_type": "execute_result"
    },
    {
     "data": {
      "image/png": "[encoded data removed]",
      "text/plain": [
       "<matplotlib.figure.Figure at 0x7fd68cf4e510>"
      ]
     },
     "metadata": {},
     "output_type": "display_data"
    }
   ],
   "source": [
    "demand_process = univariate.Independent(name='demand', dist='normal', \n",
    "                                        mu=mean_demand, sigma=std_deviation, seed=191)\n",
    "sample = demand_process.simulate(num_stages=2, sample_size=1000)\n",
    "sample.query('stage==0').demand.plot(kind='kde', color = 'r')"
   ]
  },
  {
   "cell_type": "markdown",
   "metadata": {},
   "source": [
    "## Solution Method\n",
    "Let us solve the model using QUASAR's dynamic optimizer. The method is a complete overkill for this simple problem, but it will serve its purpose."
   ]
  },
  {
   "cell_type": "code",
   "execution_count": 6,
   "metadata": {
    "collapsed": false
   },
   "outputs": [],
   "source": [
    "opt = DynamicOptimizer(model, demand_process, num_nodes=50)\n",
    "opt.solve()\n",
    "opt.join()"
   ]
  },
  {
   "cell_type": "markdown",
   "metadata": {},
   "source": [
    "### The Approximate Solution"
   ]
  },
  {
   "cell_type": "code",
   "execution_count": 7,
   "metadata": {
    "collapsed": false
   },
   "outputs": [
    {
     "name": "stdout",
     "output_type": "stream",
     "text": [
      "buy = 24.3507\n"
     ]
    }
   ],
   "source": [
    "first_stage_solution = opt.policy.first_stage_solution()\n",
    "print \"buy = %.4f\"%first_stage_solution.decisions['buy']"
   ]
  },
  {
   "cell_type": "markdown",
   "metadata": {},
   "source": [
    "### The Analytic Solution"
   ]
  },
  {
   "cell_type": "markdown",
   "metadata": {},
   "source": [
    "The analytic solution to the newsvendor problem is given by\n",
    "$$ F_D^{-1}\\left(\\frac{p-c}{p}\\right)$$\n",
    "We are going to use SciPy's inverse normal to compute a result."
   ]
  },
  {
   "cell_type": "code",
   "execution_count": 8,
   "metadata": {
    "collapsed": false
   },
   "outputs": [
    {
     "name": "stdout",
     "output_type": "stream",
     "text": [
      "buy = 24.2081\n"
     ]
    }
   ],
   "source": [
    "from scipy.stats import norm\n",
    "fractile = (price-cost)/price\n",
    "optimal_buy = norm.ppf(fractile, loc=mean_demand, scale=std_deviation)\n",
    "print \"buy = %.4f\"%optimal_buy"
   ]
  },
  {
   "cell_type": "markdown",
   "metadata": {},
   "source": [
    "### Simulation Output Analysis"
   ]
  },
  {
   "cell_type": "code",
   "execution_count": 9,
   "metadata": {
    "collapsed": false
   },
   "outputs": [
    {
     "name": "stdout",
     "output_type": "stream",
     "text": [
      "profit = 14.5732\n"
     ]
    },
    {
     "data": {
      "image/png": "[encoded data removed]",
      "text/plain": [
       "<matplotlib.figure.Figure at 0x7fd605480450>"
      ]
     },
     "metadata": {},
     "output_type": "display_data"
    }
   ],
   "source": [
    "sim = opt.policy.simulate(sample_size=10000, process=demand_process)\n",
    "print \"profit = %.4f\"%sim.rewards.groupby_series.sum().mean()\n",
    "sim.rewards.groupby_series.sum().plot(kind='kde')\n",
    "plt.show()"
   ]
  },
  {
   "cell_type": "markdown",
   "metadata": {},
   "source": [
    "## Solution under a Risk Measure\n",
    "One nice thing about using a stochastic optimizer to solve the problem is that we can easily change the objective criterion and instead of maximizing the expected profit, we minimize the expected tail loss. This requires us to use a risk measure. A popular risk measure is the value-at-risk. Since the value-at-risk is difficult to optimize, we use the conditional value-at-risk, which serves the same purpose.\n",
    "\n",
    "The objective now changes from maximizing the expected reward to maximizing the expected profit below the $\\alpha=0.05$ quantile. We are therefore going to add the keyword <code>nested_cvar=[alpha,lambda,max_iterations]</code> as argument to the constructor call <code>DynamicOptimizer</code>."
   ]
  },
  {
   "cell_type": "code",
   "execution_count": 10,
   "metadata": {
    "collapsed": false
   },
   "outputs": [],
   "source": [
    "opt = DynamicOptimizer(model, demand_process, num_nodes=50, \n",
    "                       nested_cvar=[0.05,1.0,len(opt.stats)])\n",
    "opt.solve()\n",
    "opt.join()"
   ]
  },
  {
   "cell_type": "markdown",
   "metadata": {},
   "source": [
    "#### Remarks\n",
    "- By setting $\\lambda=1.0$, we put all weight on minimizing the expected tail los and zero weight on maximizing the expected profit. If we set $\\lambda=0.5$, we would use a weighted combination of the two objective criteria.\n",
    "- With this risk measure, the dynamic optimizer does not know when it has converged. As maximum number of iterations, we therefore use the number of iterations at which the expectation maximizer from the previous solve has converged."
   ]
  },
  {
   "cell_type": "markdown",
   "metadata": {},
   "source": [
    "### Buying Decision and Reward Distribution"
   ]
  },
  {
   "cell_type": "code",
   "execution_count": 11,
   "metadata": {
    "collapsed": false
   },
   "outputs": [
    {
     "name": "stdout",
     "output_type": "stream",
     "text": [
      "buy = 11.5173\n",
      "profit = 9.1107\n"
     ]
    },
    {
     "data": {
      "image/png": "[encoded data removed]",
      "text/plain": [
       "<matplotlib.figure.Figure at 0x7fd604849750>"
      ]
     },
     "metadata": {},
     "output_type": "display_data"
    }
   ],
   "source": [
    "print \"buy = %.4f\"%opt.policy.first_stage_solution().decisions['buy']\n",
    "sim = opt.policy.simulate(sample_size=10000, process=demand_process)\n",
    "print \"profit = %.4f\"%sim.rewards.groupby_series.sum().mean()\n",
    "sim.rewards.groupby_series.sum().plot(kind='kde')\n",
    "plt.show()"
   ]
  },
  {
   "cell_type": "code",
   "execution_count": null,
   "metadata": {
    "collapsed": true
   },
   "outputs": [],
   "source": []
  }
 ],
 "metadata": {
  "kernelspec": {
   "display_name": "Python 2",
   "language": "python",
   "name": "python2"
  },
  "language_info": {
   "codemirror_mode": {
    "name": "ipython",
    "version": 2
   },
   "file_extension": ".py",
   "mimetype": "text/x-python",
   "name": "python",
   "nbconvert_exporter": "python",
   "pygments_lexer": "ipython2",
   "version": "2.7.6"
  }
 },
 "nbformat": 4,
 "nbformat_minor": 0
}
