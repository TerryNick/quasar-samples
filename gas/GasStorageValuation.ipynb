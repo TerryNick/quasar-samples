{
 "cells": [
  {
   "cell_type": "markdown",
   "metadata": {},
   "source": [
    "#Gas Storage Valuation with Forward Trading\n",
    "\n",
    "A widely used approach for gas storage valuation is the rolling intrinsic value, which is often used to price storage contracts and to derive trading decisions. However, it is well-known that the result underestimates the true value of storage since the rolling intrinsic value is a conservative figure. We are therefore going to conduct a *stochastic* rolling intrinsic valuation, which has been proposed in the article \"[Optimal gas storage valuation and futures trading under a high-dimensional price process](http://www.optimization-online.org/DB_FILE/2015/05/4913.pdf)\" by Nils Löhndorf and David Wozabal (2015).\n",
    "\n",
    "The stochastic rolling intrinsic value can be obtained from computing the discounted cash flow of the optimal operational and trading policies. An optimal policy does not only need to consider the possible evolution of storage over time but also the dynamics of the forward curve as well as possible positions of all forward contracts that are held over time. The resulting stochastic-dynamic optimization problem has a high dimensionality, but by combining the discrete lattice with QUASAR's powerful approximate dynamic programming engine, the valuation problem can be solved in a short amount of time."
   ]
  },
  {
   "cell_type": "markdown",
   "metadata": {},
   "source": [
    "## Model Parameters\n",
    "The model parameters for the storage system are taken from the Operations Research article by Lai, Margot, and Secomandi (2015), so are the interest rates."
   ]
  },
  {
   "cell_type": "code",
   "execution_count": 1,
   "metadata": {
    "collapsed": true
   },
   "outputs": [],
   "source": [
    "season = 'Spring'\n",
    "max_storage = 1.0\n",
    "loss = 0.01\n",
    "max_inject = 0.15\n",
    "max_withdraw = 0.3\n",
    "injection_cost = 0.02\n",
    "withdrawal_cost = 0.01\n",
    "interest = {\n",
    "    'Spring': 0.0474,\n",
    "    'Summer': 0.0505,\n",
    "    'Fall': 0.0501,\n",
    "    'Winter': 0.0487\n",
    "}"
   ]
  },
  {
   "cell_type": "markdown",
   "metadata": {},
   "source": [
    "## Multifactor Model\n",
    "We will use the same multifactor model as in the Notebook [MultifactorLattice.ipynb](MultifactorLattice.ipynb). The lattice created in that notebook will now be imported to be used for optimization."
   ]
  },
  {
   "cell_type": "code",
   "execution_count": 3,
   "metadata": {
    "collapsed": false
   },
   "outputs": [
    {
     "ename": "java.lang.NullPointerExceptionPyRaisable",
     "evalue": "java.lang.NullPointerException",
     "output_type": "error",
     "traceback": [
      "\u001b[0;31m---------------------------------------------------------------------------\u001b[0m",
      "\u001b[0;31mjava.lang.NullPointerExceptionPyRaisable\u001b[0m  Traceback (most recent call last)",
      "\u001b[0;32m<ipython-input-3-c0ce32fd8593>\u001b[0m in \u001b[0;36m<module>\u001b[0;34m()\u001b[0m\n\u001b[1;32m      4\u001b[0m \u001b[0mforward_curve\u001b[0m \u001b[0;34m=\u001b[0m \u001b[0mforwards_csv\u001b[0m\u001b[0;34m[\u001b[0m\u001b[0mseason\u001b[0m\u001b[0;34m]\u001b[0m\u001b[0;34m.\u001b[0m\u001b[0mvalues\u001b[0m\u001b[0;34m.\u001b[0m\u001b[0mtolist\u001b[0m\u001b[0;34m(\u001b[0m\u001b[0;34m)\u001b[0m\u001b[0;34m[\u001b[0m\u001b[0;34m:\u001b[0m\u001b[0mnum_months\u001b[0m\u001b[0;34m]\u001b[0m\u001b[0;34m\u001b[0m\u001b[0m\n\u001b[1;32m      5\u001b[0m \u001b[0mnum_nodes\u001b[0m \u001b[0;34m=\u001b[0m \u001b[0;36m50\u001b[0m\u001b[0;34m\u001b[0m\u001b[0m\n\u001b[0;32m----> 6\u001b[0;31m \u001b[0mlattice\u001b[0m \u001b[0;34m=\u001b[0m \u001b[0mLattice\u001b[0m\u001b[0;34m.\u001b[0m\u001b[0mfrom_csv\u001b[0m\u001b[0;34m(\u001b[0m\u001b[0;34m'MGBM_%d-node-lattice_%s'\u001b[0m\u001b[0;34m%\u001b[0m\u001b[0;34m(\u001b[0m\u001b[0mnum_nodes\u001b[0m\u001b[0;34m,\u001b[0m\u001b[0mseason\u001b[0m\u001b[0;34m)\u001b[0m\u001b[0;34m)\u001b[0m\u001b[0;34m\u001b[0m\u001b[0m\n\u001b[0m",
      "\u001b[0;32m/Users/manu/Workspace/pyquasar/pyquasar/lattice.py\u001b[0m in \u001b[0;36mfrom_csv\u001b[0;34m(cls, prefix, distance, seed)\u001b[0m\n\u001b[1;32m    123\u001b[0m             \u001b[0mlattice\u001b[0m\u001b[0;34m.\u001b[0m\u001b[0m_inner\u001b[0m \u001b[0;34m=\u001b[0m \u001b[0mlattice_builder\u001b[0m\u001b[0;34m.\u001b[0m\u001b[0mcreateLatticeFromCSV\u001b[0m\u001b[0;34m(\u001b[0m\u001b[0mprefix\u001b[0m\u001b[0;34m,\u001b[0m \u001b[0mdistance\u001b[0m\u001b[0;34m,\u001b[0m \u001b[0mgenerator\u001b[0m\u001b[0;34m)\u001b[0m\u001b[0;34m\u001b[0m\u001b[0m\n\u001b[1;32m    124\u001b[0m         \u001b[0;32melse\u001b[0m\u001b[0;34m:\u001b[0m\u001b[0;34m\u001b[0m\u001b[0m\n\u001b[0;32m--> 125\u001b[0;31m             \u001b[0mlattice\u001b[0m\u001b[0;34m.\u001b[0m\u001b[0m_inner\u001b[0m \u001b[0;34m=\u001b[0m \u001b[0mlattice_builder\u001b[0m\u001b[0;34m.\u001b[0m\u001b[0mcreateLatticeFromCSV\u001b[0m\u001b[0;34m(\u001b[0m\u001b[0mprefix\u001b[0m\u001b[0;34m)\u001b[0m\u001b[0;34m\u001b[0m\u001b[0m\n\u001b[0m\u001b[1;32m    126\u001b[0m         \u001b[0;32mreturn\u001b[0m \u001b[0mlattice\u001b[0m\u001b[0;34m\u001b[0m\u001b[0m\n\u001b[1;32m    127\u001b[0m \u001b[0;34m\u001b[0m\u001b[0m\n",
      "\u001b[0;31mjava.lang.NullPointerExceptionPyRaisable\u001b[0m: java.lang.NullPointerException"
     ]
    }
   ],
   "source": [
    "from pyquasar import *\n",
    "num_months = 24\n",
    "forwards_csv = pd.read_csv('assets/forwards.csv', index_col=0)\n",
    "forward_curve = forwards_csv[season].values.tolist()[:num_months]\n",
    "num_nodes = 50\n",
    "lattice = Lattice.from_csv('MGBM_%d-node-lattice_%s'%(num_nodes,season))"
   ]
  },
  {
   "cell_type": "markdown",
   "metadata": {},
   "source": [
    "## Model Formulation\n",
    "The model maximizes the expected value of the discounted cash flows from buying and selling forward contracts while fulfilling matured contracts as well as injecting and withdrawing into and from storage. Additionally, the following assumptions are made:\n",
    "\n",
    "- injection and withdrawal limits are independent of the storage level, i.e., ratchets are ignored, \n",
    "- cash flows are generated in monthly time increments,\n",
    "- all forward positions yield a physically implementable policy under the given operational constraints.\n",
    "\n",
    "The model formulation separates the problem into a *here-and-now* part and into a *wait-and-see* part.\n",
    "\n",
    "The *here-and-now* part concerns the physical delivery of gas at each stage that must be balanced with the contract maturing at that stage. If we were to ignore future trading, this model would sufficiently describe the storage valuation problem.\n",
    "\n",
    "The *wait-and-see* part ensures that all contractual positions made at the forward market yield an implementable policy under the currently held forward positions and physical state of the storage. A feasible policy that would ignore possible future decisions and states, would be to greedely rebalance the forward positions while meeting its obligations of matured contracts in an optimal way."
   ]
  },
  {
   "cell_type": "code",
   "execution_count": null,
   "metadata": {
    "collapsed": false
   },
   "outputs": [],
   "source": [
    "# initial state\n",
    "prev_future = [0.]*num_months\n",
    "prev_storage_0 = 0.\n",
    "\n",
    "# define model\n",
    "model = DecisionProblem(\"GasStorageValuation\").maximize() \n",
    "for t in range(num_months):   \n",
    "    \n",
    "    # define some parameters\n",
    "    tradable_futures = range(t+1,num_months)\n",
    "    prompt_month = t\n",
    "        \n",
    "    # here-and-now model\n",
    "    inject_0, withdraw_0, buy_0, sell_0, storage_0 = model.add_variables(t,\"inject_0\",\"withdraw_0\",\"buy_0\",\"sell_0\",\"storage_0\")\n",
    "    #bounds\n",
    "    model += inject_0 <= max_inject\n",
    "    model += withdraw_0 <= max_withdraw\n",
    "    model += storage_0 <= max_storage\n",
    "    model += buy_0 <= max_storage\n",
    "    model += sell_0 <= max_storage\n",
    "    #constraints\n",
    "    model += storage_0 == prev_storage_0 + (1-loss)*inject_0 - (1+loss)*withdraw_0\n",
    "    model += prev_future[prompt_month] + buy_0 - sell_0 == inject_0 - withdraw_0\n",
    "    #objective\n",
    "    here_and_now_profit = -injection_cost*inject_0 - withdrawal_cost*withdraw_0\n",
    "    if t>0:\n",
    "        here_and_now_profit += rand(\"price_%d\"%t)*sell_0 - rand(\"price_%d\"%t)*buy_0\n",
    "    else:\n",
    "        here_and_now_profit += forward_curve[0]*sell_0 - forward_curve[0]*buy_0\n",
    "    prev_storage_0 = storage_0\n",
    "\n",
    "    wait_and_see_profit = Expression()\n",
    "    for i in tradable_futures:\n",
    "        # add variables for future planning periods\n",
    "        inject_i, withdraw_i = model.add_variables(t,\"inject_%d\"%i, \"withdraw_%d\"%i)\n",
    "        buy_i, sell_i = model.add_variables(t,\"buy_%d\"%i,\"sell_%d\"%i)\n",
    "        storage_i, future_i = model.add_variables(t,\"storage_%d\"%i,\"future_%d\"%i)\n",
    "        #bounds\n",
    "        model += future_i >= -max_storage\n",
    "        model += future_i <= max_storage\n",
    "        model += storage_i <= max_storage\n",
    "        model += inject_i <= max_inject\n",
    "        model += withdraw_i <= max_withdraw\n",
    "        #model += buy_i <= max_storage\n",
    "        #model += sell_i <= max_storage\n",
    "        # future balance\n",
    "        model += future_i == prev_future[i]  + buy_i - sell_i\n",
    "        model += future_i == inject_i - withdraw_i\n",
    "        if i==tradable_futures[0]:\n",
    "            prev_storage_i = storage_0\n",
    "        #constraints\n",
    "        model += storage_i == prev_storage_i + (1-loss)*inject_i - (1+loss)*withdraw_i\n",
    "        #state transition\n",
    "        prev_storage_i = storage_i\n",
    "        #objective\n",
    "        discount_factor = 1./(1.+interest[season])**(i/12.)\n",
    "        wait_and_see_profit += discount_factor*(rand(\"price_%d\"%i)*sell_i - rand(\"price_%d\"%i)*buy_i)\n",
    "        #add expected cost to objective function to get the right intrinsic value (only do this for rolling intrinsic!)\n",
    "        #model += -discount_factor*(injection_cost*inject_i + withdrawal_cost*withdraw_i)\n",
    "        #state transition\n",
    "        prev_future[i] = future_i\n",
    "    \n",
    "    #add discounted profits to objective function\n",
    "    profit = 1./(1.+interest[season])**(t/12.)*here_and_now_profit+wait_and_see_profit\n",
    "    model += profit"
   ]
  },
  {
   "cell_type": "markdown",
   "metadata": {},
   "source": [
    "##Optimal  Value\n",
    "To compute the optimal policy of the above problem, we create another instance of the DynamicOptimizer and run the algorithm to convergence. When the algorithm has converged, we are going to take a look at algorithm statistics from the last iterations before convergence."
   ]
  },
  {
   "cell_type": "code",
   "execution_count": null,
   "metadata": {
    "collapsed": false
   },
   "outputs": [],
   "source": [
    "opt_exp = DynamicOptimizer(model, lattice)\n",
    "opt_exp.solve(min_iterations=400,max_iterations=400)\n",
    "opt_exp.join()\n",
    "opt_exp.stats.tail()"
   ]
  },
  {
   "cell_type": "code",
   "execution_count": null,
   "metadata": {
    "collapsed": false
   },
   "outputs": [],
   "source": [
    "opt_exp = DynamicOptimizer(model, lattice, linear_solver='clp',remove_redundant_hyperplanes=False)\n",
    "opt_exp.solve(min_iterations=400,max_iterations=400)\n",
    "opt_exp.join()\n",
    "opt_exp.stats.tail()"
   ]
  },
  {
   "cell_type": "markdown",
   "metadata": {},
   "source": [
    "We can now simulate the optimal policy to compute the storage value and collect some information about the decision process."
   ]
  },
  {
   "cell_type": "code",
   "execution_count": null,
   "metadata": {
    "collapsed": false
   },
   "outputs": [],
   "source": [
    "sample_size = 1000\n",
    "sim_exp = opt_exp.policy.simulate(sample_size = sample_size)\n",
    "sim_exp.set_time_index(start='2006-03',freq='MS')"
   ]
  },
  {
   "cell_type": "markdown",
   "metadata": {},
   "source": [
    "Let us compute the expected (risk-neutral) storage value and plot the distribution of discounted profits as well as a fan chart of possible storage content levels as they are distributed over time."
   ]
  },
  {
   "cell_type": "code",
   "execution_count": null,
   "metadata": {
    "collapsed": false
   },
   "outputs": [],
   "source": [
    "sum_exp_rewards = sim_exp.rewards.groupby_series.sum()\n",
    "print \"Exp Value (SE): %.2f (%.2f)\"%(sum_exp_rewards.mean().values[0],sum_exp_rewards.std()/math.sqrt(sample_size))\n",
    "fig, (ax1, ax2) = plt.subplots(1,2, figsize=(16,5))\n",
    "sum_exp_rewards.hist(ax=ax1)\n",
    "sim_exp.decision.storage_0.fanchart(ax=ax2)"
   ]
  },
  {
   "cell_type": "markdown",
   "metadata": {},
   "source": [
    "## Putting it All Back Together\n",
    "Up to here, we have used the lattice in place of the multifactor model to obtain an optimal policy. However, the price model we are actually interested in is the multifactor model. We are therefore going to return to the multifactor model that has been used to create the lattice and then generate sample paths from the MGBM and apply our policy to these sample paths. If the gap between the discounted rewards of the policy under the discrete-state lattice and the continuous-state multifactor model is small, we can conclude that we have found the best possible policy.\n",
    "\n",
    "Let us begin with importing the parameters that define the original multifactor price process, just like we did in the notebook [MultifactorLattice.ipynb](MultifactorLattice.ipynb). Again, we use the PyQuasar class MGBM to provide us with a simulator."
   ]
  },
  {
   "cell_type": "code",
   "execution_count": null,
   "metadata": {
    "collapsed": false
   },
   "outputs": [],
   "source": [
    "num_months = 24\n",
    "# import the forward curve which also serves as initial value fo the MGBM\n",
    "forwards_csv = pd.read_csv('assets/forwards.csv', index_col=0)\n",
    "forward_curve = forwards_csv[season].values.tolist()[:num_months]\n",
    "initial_values = forward_curve[1:num_months]\n",
    "num_futures = len(initial_values)\n",
    "# import the correlation matrix\n",
    "correlation_csv = pd.read_csv('assets/correlation.csv', index_col=0)\n",
    "correlation_matrix = correlation_csv.values.tolist()\n",
    "# import the volatilities\n",
    "volatility_csv = pd.read_csv('assets/volatility.csv', index_col=0)\n",
    "volatilities = volatility_csv[season].mul(1./math.sqrt(12)).values.tolist()[:num_months]\n",
    "# no drift\n",
    "drift = [0.]*num_futures\n",
    "# provide a name for each state variable\n",
    "names = ['price_%d'%i for i in range(1,num_futures+1)]\n",
    "mgbm = MGBM(names,initial_values,drift,volatilities,correlation_matrix)"
   ]
  },
  {
   "cell_type": "markdown",
   "metadata": {},
   "source": [
    "As before, we can now simulate the optimal policy to compute the storage value and collect some information about the decision process, but this time we use the multifactor model for sampling.\n",
    "\n",
    "Since the dynamic optimizer uses the lattice to find an optimal policy, we must specify how we apply the decision that has been made under the discrete policy to the continous MGBM process. We will do this by means of rounding to the nearest node on the lattice for which a decision is known."
   ]
  },
  {
   "cell_type": "code",
   "execution_count": null,
   "metadata": {
    "collapsed": true
   },
   "outputs": [],
   "source": [
    "sim_exp_mgbm = opt_exp.policy.simulate(process = mgbm, sample_size = sample_size, nearest_problem = True)\n",
    "sim_exp_mgbm.set_time_index(start='2006-03',freq='MS')"
   ]
  },
  {
   "cell_type": "markdown",
   "metadata": {},
   "source": [
    "Let us now take a look at the expected (risk-neutral) storage value and plot the distribution of discounted profits as well as a fan chart of possible storage content levels as they are distributed over time, just like we did before. As we can see, the profit figure approximately corresponds to the one computed when the lattice has been used."
   ]
  },
  {
   "cell_type": "code",
   "execution_count": null,
   "metadata": {
    "collapsed": false
   },
   "outputs": [],
   "source": [
    "sum_exp_mgbm_rewards = sim_exp_mgbm.rewards.groupby_series.sum()\n",
    "print \"Exp Value (SE): %.2f (%.2f)\"%(sum_exp_mgbm_rewards.mean().values[0],sum_exp_mgbm_rewards.std()/math.sqrt(sample_size))\n",
    "fig, (ax1, ax2) = plt.subplots(1,2, figsize=(16,5))\n",
    "sum_exp_mgbm_rewards.hist(ax=ax1)\n",
    "sim_exp_mgbm.decision.storage_0.fanchart(ax=ax2)"
   ]
  },
  {
   "cell_type": "markdown",
   "metadata": {},
   "source": [
    "##Rolling Intrinsic Value\n",
    "\n",
    "If we create an instance of PyQuasar's DynamicOptimizer without actually running it, the resulting policy will be greedy and thereby return the rolling intrinsic solution. To obtain the rolling intrinsic solution, we simply need to simulate the greedy policy. Again, we will use the multifactor model to generate sample paths."
   ]
  },
  {
   "cell_type": "code",
   "execution_count": null,
   "metadata": {
    "collapsed": false
   },
   "outputs": [],
   "source": [
    "opt_ri = DynamicOptimizer(model, mgbm, num_nodes=1)\n",
    "sim_ri = opt_ri.policy.simulate(sample_size = sample_size, process = mgbm)\n",
    "sim_ri.set_time_index(start='2006-03',freq='MS')"
   ]
  },
  {
   "cell_type": "code",
   "execution_count": null,
   "metadata": {
    "collapsed": false
   },
   "outputs": [],
   "source": [
    "sum_ri_rewards = sim_ri.rewards.groupby_series.sum()\n",
    "print \"Exp Value (SE): %.2f (%.2f)\"%(sum_ri_rewards.mean().values[0],sum_ri_rewards.std()/math.sqrt(sample_size))\n",
    "fig, (ax1, ax2) = plt.subplots(1,2, figsize=(16,5))\n",
    "sum_ri_rewards.hist(ax=ax1)\n",
    "sim_ri.decision.storage_0.fanchart(ax=ax2)"
   ]
  },
  {
   "cell_type": "code",
   "execution_count": null,
   "metadata": {
    "collapsed": true
   },
   "outputs": [],
   "source": []
  }
 ],
 "metadata": {
  "kernelspec": {
   "display_name": "Python 2",
   "language": "python",
   "name": "python2"
  },
  "language_info": {
   "codemirror_mode": {
    "name": "ipython",
    "version": 2
   },
   "file_extension": ".py",
   "mimetype": "text/x-python",
   "name": "python",
   "nbconvert_exporter": "python",
   "pygments_lexer": "ipython2",
   "version": "2.7.11"
  }
 },
 "nbformat": 4,
 "nbformat_minor": 0
}
