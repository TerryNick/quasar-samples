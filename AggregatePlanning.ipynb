{
 "cells": [
  {
   "cell_type": "markdown",
   "metadata": {},
   "source": [
    "# Aggregate Planning with QUASAR\n",
    "## Modeling the Decision Problem\n",
    "\n",
    "Stochastic decision problems in QUASAR can be formulated by using the same type of mathematical expressions as they are common in linear programming. This requires defining a set of decision variables, an objective function, as well as a set of constraints.\n",
    "\n",
    "We begin by importing the library and creating a *DecisionProblem* that contains our model formulation."
   ]
  },
  {
   "cell_type": "code",
   "execution_count": 19,
   "metadata": {
    "collapsed": false
   },
   "outputs": [],
   "source": [
    "from pyquasar import *"
   ]
  },
  {
   "cell_type": "markdown",
   "metadata": {},
   "source": [
    "### Variables & Constraints\n",
    "Variables have to be linked to a decision stage and are defined by addVariable.\n",
    "\n",
    "Constraints can be formulated using simple algebraic expressions. In the problem at hand the most important constraints link the variables *sell*, *produce* and *inventory*. The corresponding constraint is\n",
    "\n",
    "$$\\text{inventory}_t = \\text{inventory}_{t-1} - \\text{sell}_t + \\text{produce}_t$$\n",
    "\n",
    "Note that *demand* is the random demand for the product - a specific model for this randomness will be specified below.\n",
    "### Objective function\n",
    "With our constraints in place, we finally have to include the objective function, which consists of the costs for buying capacity, the cost for production, the revenue from sales, and cost for maintaining inventory.\n",
    "\n",
    "$$\\max \\ \\left\\{ \\sum_{t=1}^{T} \\text{sell}_{t} \\times \\text{price} - \\sum_{t=1}^{T} \\text{produce}_{t} \\times \\text{prod_cost} - \\text{capacity_cost} \\times \\text{capacity} - \\text{inventory_cost} \\times \\text{inventory}_t \\right\\}$$"
   ]
  },
  {
   "cell_type": "code",
   "execution_count": 20,
   "metadata": {
    "collapsed": false
   },
   "outputs": [],
   "source": [
    "num_months = 12\n",
    "capacity_cost = 1\n",
    "inventory_cost = 0.2\n",
    "prod_cost = 4\n",
    "price = 5\n",
    "init_inventory = 0\n",
    "\n",
    "model = DecisionProblem()\n",
    "capacity = model.add_variable(0,\"capacity\")\n",
    "model += capacity <= 1000\n",
    "prev_inventory = init_inventory\n",
    "for t in range(num_months):\n",
    "    inventory, produce, sell = model.add_variables(t, \"inventory\", \"produce\", \"sell\")\n",
    "    model += inventory <= 1000\n",
    "\n",
    "    #inventory balance\n",
    "    model += inventory == prev_inventory - sell + produce\n",
    "\n",
    "    #bounds\n",
    "    model += sell <= rand(\"demand\")\n",
    "    model += sell <= prev_inventory\n",
    "    model += produce <= capacity\n",
    "    prev_inventory = inventory\n",
    "    \n",
    "    # objective function\n",
    "    model += price*sell - prod_cost*produce - inventory_cost*inventory\n",
    "\n",
    "# capacity cost in the objective\n",
    "model += -capacity_cost*capacity"
   ]
  },
  {
   "cell_type": "markdown",
   "metadata": {},
   "source": [
    "##Modeling the Stochastic Process\n",
    "Before we can pass the *DecisionProblem* into the optimizer, we have to specify the *MarkovProcess* that drives the evolution of our random variables over time. QUASAR provides a number of classes that allow us to specify different types of stochastic processes.\n",
    "\n",
    "1. Univariate processes with only one state variable\n",
    "\n",
    "2. Multivariate processes with multiple state variables\n",
    "\n",
    "For the sake of simplicity, we choose a simple geometric AR(1) model for the demand. In this model, demand cannot be zero by definition, but is correlated across time, which is often the case in practice."
   ]
  },
  {
   "cell_type": "code",
   "execution_count": 21,
   "metadata": {
    "collapsed": false
   },
   "outputs": [],
   "source": [
    "ar_model = ARModel(name=\"demand\",\n",
    "                  constant=0.3, \n",
    "                  sigma=0.2, \n",
    "                  ar_coefficients=[0.8], \n",
    "                  initial_state=[5.0], \n",
    "                  log_transform=True)\n",
    "sim = ar_model.simulate(num_stages=num_months, sample_size=100)\n",
    "fig, (ax1,ax2) = plt.subplots(1,2,figsize=(17,5))\n",
    "sim.set_time_index(start='2015-01',freq='MS')\n",
    "sim.demand.fanchart(ax=ax1, ylabel='Million Pieces', title=\"Annual Demand\")\n",
    "sim.demand.spaghetti(ax=ax2, ylabel='Million Pieces', title=\"Annual Demand\")"
   ]
  },
  {
   "cell_type": "markdown",
   "metadata": {},
   "source": [
    "## Solving the problem\n",
    "\n",
    "Putting everything together, we can now generate a lattice and solve the model. The solver runs in a separate thread, so that the notebook is not blocked. To wait for the solver to finish, the *join()* method must be called."
   ]
  },
  {
   "cell_type": "code",
   "execution_count": 22,
   "metadata": {
    "collapsed": false
   },
   "outputs": [],
   "source": [
    "opt = DynamicOptimizer(model, ar_model, num_nodes=50)\n",
    "opt.solve()\n",
    "opt.join()"
   ]
  },
  {
   "cell_type": "markdown",
   "metadata": {},
   "source": [
    "Using the stats *property* of the *opt* object, we can check the status during the solution process."
   ]
  },
  {
   "cell_type": "code",
   "execution_count": 23,
   "metadata": {
    "collapsed": false
   },
   "outputs": [
    {
     "data": {
      "text/html": [
       "<div>\n",
       "<table border=\"1\" class=\"dataframe\">\n",
       "  <thead>\n",
       "    <tr style=\"text-align: right;\">\n",
       "      <th></th>\n",
       "      <th>expReward</th>\n",
       "      <th>simReward</th>\n",
       "      <th>stdError</th>\n",
       "      <th>sampleSize</th>\n",
       "      <th>hyperplanes</th>\n",
       "      <th>numSolves</th>\n",
       "      <th>duration</th>\n",
       "    </tr>\n",
       "    <tr>\n",
       "      <th>iter</th>\n",
       "      <th></th>\n",
       "      <th></th>\n",
       "      <th></th>\n",
       "      <th></th>\n",
       "      <th></th>\n",
       "      <th></th>\n",
       "      <th></th>\n",
       "    </tr>\n",
       "  </thead>\n",
       "  <tbody>\n",
       "    <tr>\n",
       "      <th>86</th>\n",
       "      <td>32.32</td>\n",
       "      <td>31.95</td>\n",
       "      <td>1.76</td>\n",
       "      <td>20</td>\n",
       "      <td>17986</td>\n",
       "      <td>47471</td>\n",
       "      <td>33</td>\n",
       "    </tr>\n",
       "    <tr>\n",
       "      <th>87</th>\n",
       "      <td>32.32</td>\n",
       "      <td>31.42</td>\n",
       "      <td>1.66</td>\n",
       "      <td>20</td>\n",
       "      <td>18080</td>\n",
       "      <td>48023</td>\n",
       "      <td>33</td>\n",
       "    </tr>\n",
       "    <tr>\n",
       "      <th>88</th>\n",
       "      <td>32.32</td>\n",
       "      <td>31.52</td>\n",
       "      <td>1.65</td>\n",
       "      <td>20</td>\n",
       "      <td>18121</td>\n",
       "      <td>48575</td>\n",
       "      <td>33</td>\n",
       "    </tr>\n",
       "    <tr>\n",
       "      <th>89</th>\n",
       "      <td>32.32</td>\n",
       "      <td>32.43</td>\n",
       "      <td>1.47</td>\n",
       "      <td>20</td>\n",
       "      <td>18195</td>\n",
       "      <td>49127</td>\n",
       "      <td>34</td>\n",
       "    </tr>\n",
       "    <tr>\n",
       "      <th>90</th>\n",
       "      <td>32.31</td>\n",
       "      <td>32.37</td>\n",
       "      <td>0.78</td>\n",
       "      <td>100</td>\n",
       "      <td>18490</td>\n",
       "      <td>49679</td>\n",
       "      <td>35</td>\n",
       "    </tr>\n",
       "  </tbody>\n",
       "</table>\n",
       "</div>"
      ],
      "text/plain": [
       "      expReward  simReward  stdError  sampleSize  hyperplanes  numSolves  duration\n",
       "iter                                                                              \n",
       "86        32.32      31.95      1.76          20        17986      47471        33\n",
       "87        32.32      31.42      1.66          20        18080      48023        33\n",
       "88        32.32      31.52      1.65          20        18121      48575        33\n",
       "89        32.32      32.43      1.47          20        18195      49127        34\n",
       "90        32.31      32.37      0.78         100        18490      49679        35"
      ]
     },
     "execution_count": 23,
     "metadata": {},
     "output_type": "execute_result"
    }
   ],
   "source": [
    "opt.stats.tail()"
   ]
  },
  {
   "cell_type": "markdown",
   "metadata": {},
   "source": [
    "### Plotting bounds\n",
    "The ADDP upper bound an the lattice lower bound can be visualized with *DynamicOptimizer.plot()*."
   ]
  },
  {
   "cell_type": "code",
   "execution_count": 24,
   "metadata": {
    "collapsed": false
   },
   "outputs": [],
   "source": [
    "opt.plot()"
   ]
  },
  {
   "cell_type": "markdown",
   "metadata": {},
   "source": [
    "## Inspecting the solution\n",
    "To inspect the solution, we simulate the policy on the lattice."
   ]
  },
  {
   "cell_type": "code",
   "execution_count": 25,
   "metadata": {
    "collapsed": false
   },
   "outputs": [],
   "source": [
    "policy = opt.policy\n",
    "sim = policy.simulate(sample_size = 1000)\n",
    "sim.set_time_index(start='2015-01',freq='MS')"
   ]
  },
  {
   "cell_type": "markdown",
   "metadata": {},
   "source": [
    "The result of the simulation is stored in a Pandas dataframe which hows the demand state, the immediate reward, the decision as well as the shadow prices of the time coupling variables. Since this is a Pandas dataframe, analyszing the simulation output is a breeze. \n",
    "\n",
    "Let us only take look at the first sample path of our optimized policy."
   ]
  },
  {
   "cell_type": "code",
   "execution_count": 26,
   "metadata": {
    "collapsed": false
   },
   "outputs": [
    {
     "data": {
      "text/html": [
       "<div>\n",
       "<table border=\"1\" class=\"dataframe\">\n",
       "  <thead>\n",
       "    <tr>\n",
       "      <th></th>\n",
       "      <th></th>\n",
       "      <th>rewards</th>\n",
       "      <th colspan=\"4\" halign=\"left\">decision</th>\n",
       "      <th colspan=\"2\" halign=\"left\">shadow_price</th>\n",
       "      <th>state</th>\n",
       "    </tr>\n",
       "    <tr>\n",
       "      <th></th>\n",
       "      <th></th>\n",
       "      <th>rewards</th>\n",
       "      <th>sell</th>\n",
       "      <th>inventory</th>\n",
       "      <th>produce</th>\n",
       "      <th>capacity</th>\n",
       "      <th>inventory</th>\n",
       "      <th>capacity</th>\n",
       "      <th>demand</th>\n",
       "    </tr>\n",
       "    <tr>\n",
       "      <th>series</th>\n",
       "      <th>stage</th>\n",
       "      <th></th>\n",
       "      <th></th>\n",
       "      <th></th>\n",
       "      <th></th>\n",
       "      <th></th>\n",
       "      <th></th>\n",
       "      <th></th>\n",
       "      <th></th>\n",
       "    </tr>\n",
       "  </thead>\n",
       "  <tbody>\n",
       "    <tr>\n",
       "      <th rowspan=\"12\" valign=\"top\">0</th>\n",
       "      <th>2015-01-01</th>\n",
       "      <td>-30.35</td>\n",
       "      <td>0.00</td>\n",
       "      <td>5.75</td>\n",
       "      <td>5.75</td>\n",
       "      <td>6.22</td>\n",
       "      <td>4.27</td>\n",
       "      <td>0.97</td>\n",
       "      <td>5.00</td>\n",
       "    </tr>\n",
       "    <tr>\n",
       "      <th>2015-02-01</th>\n",
       "      <td>3.96</td>\n",
       "      <td>5.34</td>\n",
       "      <td>5.80</td>\n",
       "      <td>5.40</td>\n",
       "      <td>6.22</td>\n",
       "      <td>4.96</td>\n",
       "      <td>0.95</td>\n",
       "      <td>5.34</td>\n",
       "    </tr>\n",
       "    <tr>\n",
       "      <th>2015-03-01</th>\n",
       "      <td>4.77</td>\n",
       "      <td>4.85</td>\n",
       "      <td>5.54</td>\n",
       "      <td>4.59</td>\n",
       "      <td>6.22</td>\n",
       "      <td>4.14</td>\n",
       "      <td>0.72</td>\n",
       "      <td>4.85</td>\n",
       "    </tr>\n",
       "    <tr>\n",
       "      <th>2015-04-01</th>\n",
       "      <td>4.70</td>\n",
       "      <td>4.41</td>\n",
       "      <td>5.21</td>\n",
       "      <td>4.07</td>\n",
       "      <td>6.22</td>\n",
       "      <td>3.78</td>\n",
       "      <td>0.01</td>\n",
       "      <td>4.41</td>\n",
       "    </tr>\n",
       "    <tr>\n",
       "      <th>2015-05-01</th>\n",
       "      <td>-0.07</td>\n",
       "      <td>5.21</td>\n",
       "      <td>6.22</td>\n",
       "      <td>6.22</td>\n",
       "      <td>6.22</td>\n",
       "      <td>4.83</td>\n",
       "      <td>0.85</td>\n",
       "      <td>6.02</td>\n",
       "    </tr>\n",
       "    <tr>\n",
       "      <th>2015-06-01</th>\n",
       "      <td>7.27</td>\n",
       "      <td>4.08</td>\n",
       "      <td>5.16</td>\n",
       "      <td>3.02</td>\n",
       "      <td>6.22</td>\n",
       "      <td>4.59</td>\n",
       "      <td>0.20</td>\n",
       "      <td>4.08</td>\n",
       "    </tr>\n",
       "    <tr>\n",
       "      <th>2015-07-01</th>\n",
       "      <td>-0.31</td>\n",
       "      <td>5.16</td>\n",
       "      <td>6.22</td>\n",
       "      <td>6.22</td>\n",
       "      <td>6.22</td>\n",
       "      <td>4.49</td>\n",
       "      <td>0.37</td>\n",
       "      <td>5.46</td>\n",
       "    </tr>\n",
       "    <tr>\n",
       "      <th>2015-08-01</th>\n",
       "      <td>2.86</td>\n",
       "      <td>5.72</td>\n",
       "      <td>6.60</td>\n",
       "      <td>6.11</td>\n",
       "      <td>6.22</td>\n",
       "      <td>4.13</td>\n",
       "      <td>0.19</td>\n",
       "      <td>5.72</td>\n",
       "    </tr>\n",
       "    <tr>\n",
       "      <th>2015-09-01</th>\n",
       "      <td>6.90</td>\n",
       "      <td>6.60</td>\n",
       "      <td>6.22</td>\n",
       "      <td>6.22</td>\n",
       "      <td>6.22</td>\n",
       "      <td>4.75</td>\n",
       "      <td>0.21</td>\n",
       "      <td>6.69</td>\n",
       "    </tr>\n",
       "    <tr>\n",
       "      <th>2015-10-01</th>\n",
       "      <td>3.24</td>\n",
       "      <td>5.88</td>\n",
       "      <td>6.55</td>\n",
       "      <td>6.22</td>\n",
       "      <td>6.22</td>\n",
       "      <td>5.00</td>\n",
       "      <td>0.80</td>\n",
       "      <td>5.88</td>\n",
       "    </tr>\n",
       "    <tr>\n",
       "      <th>2015-11-01</th>\n",
       "      <td>14.49</td>\n",
       "      <td>5.35</td>\n",
       "      <td>4.06</td>\n",
       "      <td>2.87</td>\n",
       "      <td>6.22</td>\n",
       "      <td>4.80</td>\n",
       "      <td>0.00</td>\n",
       "      <td>5.35</td>\n",
       "    </tr>\n",
       "    <tr>\n",
       "      <th>2015-12-01</th>\n",
       "      <td>20.32</td>\n",
       "      <td>4.06</td>\n",
       "      <td>0.00</td>\n",
       "      <td>0.00</td>\n",
       "      <td>nan</td>\n",
       "      <td>nan</td>\n",
       "      <td>nan</td>\n",
       "      <td>7.34</td>\n",
       "    </tr>\n",
       "  </tbody>\n",
       "</table>\n",
       "</div>"
      ],
      "text/plain": [
       "                  rewards decision                            shadow_price           state\n",
       "                  rewards     sell inventory produce capacity    inventory capacity demand\n",
       "series stage                                                                              \n",
       "0      2015-01-01  -30.35     0.00      5.75    5.75     6.22         4.27     0.97   5.00\n",
       "       2015-02-01    3.96     5.34      5.80    5.40     6.22         4.96     0.95   5.34\n",
       "       2015-03-01    4.77     4.85      5.54    4.59     6.22         4.14     0.72   4.85\n",
       "       2015-04-01    4.70     4.41      5.21    4.07     6.22         3.78     0.01   4.41\n",
       "       2015-05-01   -0.07     5.21      6.22    6.22     6.22         4.83     0.85   6.02\n",
       "       2015-06-01    7.27     4.08      5.16    3.02     6.22         4.59     0.20   4.08\n",
       "       2015-07-01   -0.31     5.16      6.22    6.22     6.22         4.49     0.37   5.46\n",
       "       2015-08-01    2.86     5.72      6.60    6.11     6.22         4.13     0.19   5.72\n",
       "       2015-09-01    6.90     6.60      6.22    6.22     6.22         4.75     0.21   6.69\n",
       "       2015-10-01    3.24     5.88      6.55    6.22     6.22         5.00     0.80   5.88\n",
       "       2015-11-01   14.49     5.35      4.06    2.87     6.22         4.80     0.00   5.35\n",
       "       2015-12-01   20.32     4.06      0.00    0.00      nan          nan      nan   7.34"
      ]
     },
     "execution_count": 26,
     "metadata": {},
     "output_type": "execute_result"
    }
   ],
   "source": [
    "sim.head(num_months)"
   ]
  },
  {
   "cell_type": "markdown",
   "metadata": {},
   "source": [
    "### The *true* profit distribution\n",
    "The simulated profit of the policy under the AR demand model may deviate from the simulated lower bound if not enough scenarios have been used to construct the lattice. Let us therefore take a look at the reward distribution."
   ]
  },
  {
   "cell_type": "code",
   "execution_count": 27,
   "metadata": {
    "collapsed": false
   },
   "outputs": [
    {
     "data": {
      "text/html": [
       "<div>\n",
       "<table border=\"1\" class=\"dataframe\">\n",
       "  <thead>\n",
       "    <tr style=\"text-align: right;\">\n",
       "      <th></th>\n",
       "      <th>count</th>\n",
       "      <th>mean</th>\n",
       "      <th>std</th>\n",
       "      <th>min</th>\n",
       "      <th>25%</th>\n",
       "      <th>50%</th>\n",
       "      <th>75%</th>\n",
       "      <th>max</th>\n",
       "    </tr>\n",
       "  </thead>\n",
       "  <tbody>\n",
       "    <tr>\n",
       "      <th>rewards</th>\n",
       "      <td>1,000.00</td>\n",
       "      <td>32.51</td>\n",
       "      <td>7.24</td>\n",
       "      <td>12.60</td>\n",
       "      <td>27.10</td>\n",
       "      <td>32.95</td>\n",
       "      <td>37.95</td>\n",
       "      <td>47.92</td>\n",
       "    </tr>\n",
       "  </tbody>\n",
       "</table>\n",
       "</div>"
      ],
      "text/plain": [
       "           count  mean  std   min   25%   50%   75%   max\n",
       "rewards 1,000.00 32.51 7.24 12.60 27.10 32.95 37.95 47.92"
      ]
     },
     "execution_count": 27,
     "metadata": {},
     "output_type": "execute_result"
    }
   ],
   "source": [
    "sim.rewards.groupby_series.sum().describe().transpose()"
   ]
  },
  {
   "cell_type": "markdown",
   "metadata": {},
   "source": [
    "### Getting first stage decision\n",
    "The production capacity is a first stage decision variable. Hence, it is independent of the scenarios and only has one deterministic value for all scenarios."
   ]
  },
  {
   "cell_type": "code",
   "execution_count": 28,
   "metadata": {
    "collapsed": false
   },
   "outputs": [
    {
     "data": {
      "text/plain": [
       "{\n",
       "  \"decisions\": {\n",
       "    \"capacity\": 6.22, \n",
       "    \"inventory\": 5.75, \n",
       "    \"produce\": 5.75, \n",
       "    \"sell\": 0.00\n",
       "  }, \n",
       "  \"rewards\": -30.35, \n",
       "  \"shadow_prices\": {\n",
       "    \"capacity\": 0.14, \n",
       "    \"inventory\": 3.88\n",
       "  }\n",
       "}"
      ]
     },
     "execution_count": 28,
     "metadata": {},
     "output_type": "execute_result"
    }
   ],
   "source": [
    "policy.first_stage_solution()"
   ]
  },
  {
   "cell_type": "markdown",
   "metadata": {},
   "source": [
    "### Plotting stochastic decision variables\n",
    "The variables *inventory*, *produce*, and *sell* vary with different scenarios and are therefore random. We use a fanplot to visualize this randomness over time."
   ]
  },
  {
   "cell_type": "code",
   "execution_count": 29,
   "metadata": {
    "collapsed": false
   },
   "outputs": [],
   "source": [
    "f, ((ax1, ax2)) = plt.subplots(1, 2, figsize=(16,5))\n",
    "sim.decision['inventory'].fanchart(ax1, ylabel='Million Pieces', title=\"Annual Inventories\")\n",
    "sim.decision['produce'].fanchart(ax2, ylabel='Million Pieces', title=\"Annual Production Quantities\")"
   ]
  },
  {
   "cell_type": "markdown",
   "metadata": {},
   "source": [
    "### Service Level\n",
    "The service level is the percentage of demand that can be fulfilled from stock. The $\\alpha$-service is event-oriented counting the percentage of in-stock instances, where as the $\\beta$-service is quantity-oriented accumulating the percentage of demand served from stock."
   ]
  },
  {
   "cell_type": "code",
   "execution_count": 30,
   "metadata": {
    "collapsed": false
   },
   "outputs": [
    {
     "name": "stdout",
     "output_type": "stream",
     "text": [
      "α-Service = 0.306\n",
      "β-Service = 0.975\n"
     ]
    }
   ],
   "source": [
    "alpha = np.sign(sim.state['demand']-sim.decision['inventory']).clip(0).mean()\n",
    "beta = 1-(sim.state['demand']-sim.decision['inventory']).sum()/sim.state['demand'].sum()\n",
    "print(\"%s-Service = %.3f\"%(u\"\\u03B1\",alpha))\n",
    "print(\"%s-Service = %.3f\"%(u\"\\u03B2\",beta))"
   ]
  },
  {
   "cell_type": "markdown",
   "metadata": {},
   "source": [
    "### Exporting the simulation result\n",
    "We can easily export the results from simulating the optimal policy into a CSV for further usage elsewhere."
   ]
  },
  {
   "cell_type": "code",
   "execution_count": 31,
   "metadata": {
    "collapsed": false
   },
   "outputs": [],
   "source": [
    "sim.to_csv('agg_model.csv')"
   ]
  },
  {
   "cell_type": "code",
   "execution_count": null,
   "metadata": {
    "collapsed": true
   },
   "outputs": [],
   "source": []
  }
 ],
 "metadata": {
  "kernelspec": {
   "display_name": "Python 2",
   "language": "python",
   "name": "python2"
  },
  "language_info": {
   "codemirror_mode": {
    "name": "ipython",
    "version": 2
   },
   "file_extension": ".py",
   "mimetype": "text/x-python",
   "name": "python",
   "nbconvert_exporter": "python",
   "pygments_lexer": "ipython2",
   "version": "2.7.11"
  }
 },
 "nbformat": 4,
 "nbformat_minor": 0
}
